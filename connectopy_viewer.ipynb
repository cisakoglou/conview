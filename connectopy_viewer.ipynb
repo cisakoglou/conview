{
 "cells": [
  {
   "cell_type": "code",
   "execution_count": 9,
   "id": "751db240",
   "metadata": {},
   "outputs": [],
   "source": [
    "from jupyter_dash import JupyterDash\n",
    "import dash_bootstrap_components as dbc\n",
    "\n",
    "import dash\n",
    "from dash import dcc, html, no_update\n",
    "\n",
    "import pandas as pd\n",
    "import plotly.express as px\n",
    "from dash.dependencies import Input, Output\n",
    "import shutil"
   ]
  },
  {
   "cell_type": "code",
   "execution_count": 11,
   "id": "9a14aa03",
   "metadata": {},
   "outputs": [],
   "source": [
    "JupyterDash.infer_jupyter_proxy_config()"
   ]
  },
  {
   "cell_type": "code",
   "execution_count": 15,
   "id": "45a97add",
   "metadata": {},
   "outputs": [],
   "source": [
    "#load data\n",
    "df_z2 = pd.read_csv(r\"input\\df_z2.csv\")\n",
    "df_z4 = pd.read_csv(r\"input\\df_z4.csv\")"
   ]
  },
  {
   "cell_type": "code",
   "execution_count": 16,
   "id": "ebbedcf2",
   "metadata": {},
   "outputs": [],
   "source": [
    "# convert column of diagnosis to int\n",
    "df_z2 = df_z2.astype({'group':'str'})\n",
    "df_z4 = df_z4.astype({'group':'str'})"
   ]
  },
  {
   "cell_type": "code",
   "execution_count": 17,
   "id": "a4aa727a",
   "metadata": {},
   "outputs": [],
   "source": [
    "def returnSlice(df):\n",
    "    return df[(df['vine_scores'] != 777) & (df['vine_scores'] != 999) & (df['vine_scores'] != 0)]"
   ]
  },
  {
   "cell_type": "code",
   "execution_count": 18,
   "id": "c5e7747c",
   "metadata": {},
   "outputs": [
    {
     "data": {
      "text/plain": [
       "134"
      ]
     },
     "execution_count": 18,
     "metadata": {},
     "output_type": "execute_result"
    }
   ],
   "source": [
    "#len(returnSlice(df_z2).sbj_id.values)"
   ]
  },
  {
   "cell_type": "code",
   "execution_count": 1,
   "id": "070596b4",
   "metadata": {},
   "outputs": [],
   "source": [
    "# for sbj_id in returnSlice(df_z2).sbj_id.values:\n",
    "#     print(sbj_id)\n",
    "#     shutil.copy(\"P:\\\\3022036.01\\\\congrads\\\\hariri_wave1\\\\\" + str(int(sbj_id))+ \"\\\\hariri_inverted_L_NO_GR1.png\",\n",
    "#                \"C:\\\\Users\\\\chrisa\\\\Desktop\\\\CODE\\\\conviewer\\\\input\\\\figures\\\\\" + str(int(sbj_id)) + \"_hariri_inverted_L_NO_GR1.png\")"
   ]
  },
  {
   "cell_type": "code",
   "execution_count": 2,
   "id": "92e39bb8",
   "metadata": {},
   "outputs": [],
   "source": [
    "# #test for one subject\n",
    "# sbj_id = 104324981539\n",
    "# shutil.copy(\"P:\\\\3022036.01\\\\congrads\\\\hariri_wave1\\\\\" + str(sbj_id)+ \"\\\\hariri_inverted_L_NO_GR1.png\",\n",
    "#                \"C:\\\\Users\\\\chrisa\\\\Desktop\\\\CODE\\\\conviewer\\\\input\\\\figures\\\\\" + str(sbj_id) + \"_hariri_inverted_L_NO_GR1.png\")"
   ]
  },
  {
   "cell_type": "markdown",
   "id": "ce67018b",
   "metadata": {},
   "source": [
    "TODO   \n",
    "(1) change the value of 1 and 2 in diagnostic group, perhaps in sex as well (maybe check all columns)   \n",
    "(2) age should be in years  "
   ]
  },
  {
   "cell_type": "code",
   "execution_count": 19,
   "id": "f416296b",
   "metadata": {},
   "outputs": [],
   "source": [
    "df_z2_slice = returnSlice(df_z2).reset_index(drop=True)\n",
    "df_z4_slice = returnSlice(df_z4).reset_index(drop=True)"
   ]
  },
  {
   "cell_type": "code",
   "execution_count": 20,
   "id": "95c03038",
   "metadata": {},
   "outputs": [],
   "source": [
    "df_z2_slice['group'] = df_z2_slice['group'].replace({\"1.0\":\"TD\", \"2.0\":\"ASD\"})\n",
    "df_z4_slice['group'] = df_z4_slice['group'].replace({\"1.0\":\"TD\", \"2.0\":\"ASD\"})"
   ]
  },
  {
   "cell_type": "code",
   "execution_count": 4,
   "id": "6c25326b",
   "metadata": {},
   "outputs": [],
   "source": [
    "# df_z2_slice"
   ]
  },
  {
   "cell_type": "code",
   "execution_count": 21,
   "id": "e2242d2f",
   "metadata": {},
   "outputs": [],
   "source": [
    "def b64_image(image_filename):\n",
    "    with open(image_filename, 'rb') as f:\n",
    "        image = f.read()\n",
    "    return 'data:image/png;base64,' + base64.b64encode(image).decode('utf-8')"
   ]
  },
  {
   "cell_type": "code",
   "execution_count": 23,
   "id": "a686294a",
   "metadata": {},
   "outputs": [
    {
     "data": {
      "text/html": [
       "\n",
       "        <iframe\n",
       "            width=\"100%\"\n",
       "            height=\"650\"\n",
       "            src=\"http://127.0.0.1:8050/\"\n",
       "            frameborder=\"0\"\n",
       "            allowfullscreen\n",
       "            \n",
       "        ></iframe>\n",
       "        "
      ],
      "text/plain": [
       "<IPython.lib.display.IFrame at 0x205526c4c70>"
      ]
     },
     "metadata": {},
     "output_type": "display_data"
    }
   ],
   "source": [
    "#https://stackoverflow.com/questions/70050831/plotly-dash-scatter-plot-pointnumber-is-assigned-to-multiple-points-in-hover-da\n",
    "import base64\n",
    "app = JupyterDash(external_stylesheets=[dbc.themes.BOOTSTRAP])\n",
    "\n",
    "fig = px.scatter(df_z2_slice, x=\"vine_scores\", y=\"coef_values\", color='group', color_discrete_sequence=['royalblue', 'darkkhaki'],\n",
    "                 labels={'vine_scores':'Vineland-II Daily Living Scores', 'group':'Diagnostic Group',\n",
    "                        'coef_values':\"TSM Coefficient\"},\n",
    "                 custom_data=['age','sbj_id'])\n",
    "\n",
    "# fig.update_traddces(\n",
    "#     hovertemplate=\"<br>\".join([\n",
    "#         \"vine_scores: %{x}\",\n",
    "#         \"Coef_values: %{y}\",\n",
    "#         \"Age: %{customdata[0]}\",\n",
    "#         \"ID: %{customdata[1]}\"\n",
    "#     ])\n",
    "# )\n",
    "\n",
    "fig.update_traces(hoverinfo=\"none\", hovertemplate=None)\n",
    "\n",
    "app.layout = dbc.Container([\n",
    "    html.H1(children='Connectopy Viewer'),\n",
    "    dcc.Dropdown([\"TSM Coefficient z^2\",\"TSM Coefficient z^4\"], \"TSM Coefficient z^2\" , \n",
    "                 id='coef-dropdown'),\n",
    "#     html.H3(children=[\"TSM Coefficient z\",html.Sup(2)]),\n",
    "    dcc.Graph(\n",
    "        id='graph',\n",
    "        figure=fig,\n",
    "        clear_on_unhover=True,\n",
    "    ),\n",
    "    dcc.Tooltip(id='graph-tooltip'),\n",
    "    html.Div(id='img-id',style={\"width\": \"100%\"})\n",
    "])\n",
    "\n",
    "# @app.callback(\n",
    "#     Output(\"graph-tooltip\",\"show\"),\n",
    "#     Output(\"graph-tooltip\", \"bbox\"),\n",
    "#     Output(\"graph-tooltip\", \"children\"),\n",
    "#     Input(\"graph\", \"hoverData\")\n",
    "# )\n",
    "\n",
    "# def display_hover(hoverData):\n",
    "#     if hoverData is None:\n",
    "#         return False, no_update, no_update\n",
    "\n",
    "#     pt = hoverData[\"points\"][0]\n",
    "#     bbox = pt[\"bbox\"]\n",
    "#     num = pt[\"pointNumber\"]\n",
    "#     sbj_id = pt[\"customdata\"][1]\n",
    "\n",
    "#     df_row = df_z2_slice.iloc[num]\n",
    "    \n",
    "#     name = str(int(df_row['sbj_id']))\n",
    "\n",
    "#     img_src = \"C:\\\\Users\\\\chrisa\\\\Desktop\\\\CODE\\\\conviewer\\\\input\\\\figures\\\\\" + name + \"_hariri_inverted_L_NO_GR1.png\"\n",
    "\n",
    "#     children = [\n",
    "#         html.Div([\n",
    "#             html.Img(src=b64_image(img_src), style={\"width\": \"100%\"}),\n",
    "#             html.H2(f\"{name}\", style={\"color\": \"black\"}),\n",
    "#             #html.P(f\"{form}\"),\n",
    "#         ], style={'width':'900px', 'white-space': 'normal', 'overflow': 'left'})\n",
    "#     ]\n",
    "#     #print(img_src)\n",
    "#     #img = b64_image(img_src)\n",
    "#     return True, bbox, children\n",
    "\n",
    "@app.callback(\n",
    "    Output(\"img-id\",\"children\"),\n",
    "    Input(\"graph\", \"hoverData\")\n",
    ")\n",
    "def update_img(hoverData):\n",
    "    if hoverData is None:\n",
    "        return no_update\n",
    "\n",
    "    pt = hoverData[\"points\"][0]\n",
    "    bbox = pt[\"bbox\"]\n",
    "    num = pt[\"pointNumber\"]\n",
    "    sbj_id = pt[\"customdata\"][1]\n",
    "\n",
    "    df_row = df_z2_slice.iloc[num]\n",
    "    \n",
    "    name = str(int(df_row['sbj_id']))\n",
    "\n",
    "    img_src = \"input\\\\figures\\\\\" + name + \"_hariri_inverted_L_NO_GR1.png\"\n",
    "    children = [\n",
    "        html.Div([\n",
    "            html.H2(f\"{name}\", style={\"color\": \"black\"}),\n",
    "            html.Img(src=b64_image(img_src), style={\"width\": \"100%\",'background-color':'#cccccc'}),\n",
    "        ], style={'width':'900px', 'white-space': 'normal'})\n",
    "    ]\n",
    "    return children\n",
    "\n",
    "@app.callback(\n",
    "    dash.dependencies.Output('graph', 'figure'),\n",
    "    [dash.dependencies.Input('coef-dropdown', 'value')])\n",
    "def update_output(value):\n",
    "    if value == \"TSM Coefficient z^2\":\n",
    "        fig = px.scatter(df_z2_slice, x=\"vine_scores\", y=\"coef_values\", color='group', color_discrete_sequence=['royalblue', 'darkkhaki'],\n",
    "                 labels={'vine_scores':'Vineland-II Daily Living Scores', 'group':'Diagnostic Group',\n",
    "                        'coef_values':\"TSM Coefficient\"},\n",
    "                 custom_data=['age','sbj_id'])\n",
    "    elif value == \"TSM Coefficient z^4\":\n",
    "        fig = px.scatter(df_z4_slice, x=\"vine_scores\", y=\"coef_values\", color='group', color_discrete_sequence=['royalblue', 'darkkhaki'],\n",
    "                 labels={'vine_scores':'Vineland-II Daily Living Scores', 'group':'Diagnostic Group',\n",
    "                        'coef_values':\"TSM Coefficient\"},\n",
    "                 custom_data=['age','sbj_id'])\n",
    "    return fig\n",
    "\n",
    "\n",
    "app.run_server(debug=True, mode='inline')"
   ]
  },
  {
   "cell_type": "code",
   "execution_count": 5,
   "id": "0cea9609",
   "metadata": {},
   "outputs": [],
   "source": [
    "# df_z2_slice"
   ]
  },
  {
   "cell_type": "code",
   "execution_count": 6,
   "id": "f839d307",
   "metadata": {},
   "outputs": [],
   "source": [
    "# {'points': [{'curveNumber': 1, 'pointNumber': 55, 'pointIndex': 55, 'x': 42, 'y': -0.00830255, 'bbox': {'x0': 203.54000000000002, 'x1': 209.54000000000002, 'y0': 359.89, 'y1': 365.89}, 'customdata': [10670, 631415270075]}]}"
   ]
  },
  {
   "cell_type": "code",
   "execution_count": 19,
   "id": "59e0ada8",
   "metadata": {},
   "outputs": [],
   "source": [
    "# df_z2_test = df_z2.astype({'group':'int'})"
   ]
  },
  {
   "cell_type": "code",
   "execution_count": 7,
   "id": "9c64aac8",
   "metadata": {
    "scrolled": true
   },
   "outputs": [],
   "source": [
    "# returnSlice(df_z2).head()"
   ]
  },
  {
   "cell_type": "code",
   "execution_count": 48,
   "id": "40a28511",
   "metadata": {},
   "outputs": [
    {
     "data": {
      "text/html": [
       "\n",
       "        <iframe\n",
       "            width=\"100%\"\n",
       "            height=\"650\"\n",
       "            src=\"http://localhost:8888/proxy/8050/\"\n",
       "            frameborder=\"0\"\n",
       "            allowfullscreen\n",
       "            \n",
       "        ></iframe>\n",
       "        "
      ],
      "text/plain": [
       "<IPython.lib.display.IFrame at 0x1cafc751b10>"
      ]
     },
     "metadata": {},
     "output_type": "display_data"
    }
   ],
   "source": [
    "# app = JupyterDash(__name__)\n",
    "# app.layout = html.Div([\n",
    "#     html.H1(\"Connectopy Viewer\"),\n",
    "#     dcc.Graph(id='graph'),\n",
    "#     html.Label([\n",
    "#         \"colorscale\",\n",
    "#         dcc.Dropdown(\n",
    "#             id='colorscale-dropdown', clearable=False, value='plasma'\n",
    "# #             value='plasma', options=[\n",
    "# #                 {'label': c, 'value': c}\n",
    "# #                 for c in px.colors.named_colorscales()\n",
    "#              )\n",
    "#     ]),\n",
    "# ])# Define callback to update graph\n",
    "# @app.callback(\n",
    "#     Output('graph', 'figure'),\n",
    "#     [Input(\"colorscale-dropdown\", \"value\")]\n",
    "# )\n",
    "# def update_figure(colorscale):\n",
    "#     return px.scatter(\n",
    "#         df_z2_slice, x=\"vine_scores\", y=\"coef_values\", color=\"group\",\n",
    "# #         color_discrete_sequence=px.colors.qualitative.G10,\n",
    "#         render_mode=\"webgl\", title='TSM Coefficient z^2'\n",
    "#     )# Run app and display result inline in the notebook\n",
    "# app.run_server(mode='inline')"
   ]
  },
  {
   "cell_type": "code",
   "execution_count": null,
   "id": "e277a623",
   "metadata": {},
   "outputs": [],
   "source": [
    "#check if the number of the subjects correspond to the correct one "
   ]
  }
 ],
 "metadata": {
  "kernelspec": {
   "display_name": "Python 3 (ipykernel)",
   "language": "python",
   "name": "python3"
  },
  "language_info": {
   "codemirror_mode": {
    "name": "ipython",
    "version": 3
   },
   "file_extension": ".py",
   "mimetype": "text/x-python",
   "name": "python",
   "nbconvert_exporter": "python",
   "pygments_lexer": "ipython3",
   "version": "3.10.4"
  }
 },
 "nbformat": 4,
 "nbformat_minor": 5
}
